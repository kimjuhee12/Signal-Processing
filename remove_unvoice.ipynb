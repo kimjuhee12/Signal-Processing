{
 "cells": [
  {
   "cell_type": "code",
   "execution_count": 8,
   "metadata": {},
   "outputs": [],
   "source": [
    "import numpy as np\n",
    "import wave\n",
    "import os\n",
    "import librosa\n",
    "\n",
    "def IAV(data,frame_size):\n",
    "    value=0.0;\n",
    "\n",
    "    for i in range (frame_size):\n",
    "        value += abs(data[i])\n",
    "    \n",
    "    return value\n",
    "\n",
    "def getIAVThreshold(y,length,frame_size):\n",
    "    IAV_data_size= 0\n",
    "    Max_length = 0\n",
    "    Min_length = 0\n",
    "    threshold = 0.0\n",
    "    Max_avg = 0.0\n",
    "    Min_avg = 0.0\n",
    "    \n",
    "    IAV_data_size = int(length / frame_size)\n",
    "    Max_length = int(IAV_data_size * 0.2)\n",
    "    Min_length = int(IAV_data_size * 0.2)\n",
    "    \n",
    "    IAV_data = np.zeros(IAV_data_size, dtype=np.float32)\n",
    "    Max = np.zeros(Max_length, dtype=np.float32)\n",
    "    Min = np.zeros(Min_length, dtype=np.float32)\n",
    "    \n",
    "    j = 0\n",
    "    \n",
    "    for i in range(0,length,frame_size):\n",
    "        if (j >= IAV_data_size):\n",
    "            break\n",
    "            \n",
    "        data_sub = y[i:i+frame_size]\n",
    "        IAV_data[j] = IAV(data_sub,frame_size)\n",
    "        j = j + 1\n",
    "        \n",
    "    sort_indices = np.argsort(IAV_data)[::-1]\n",
    "    IAV_data[:] = IAV_data[sort_indices]\n",
    "        \n",
    "    for i in range(Max_length):\n",
    "        Max[i] = IAV_data[i]\n",
    "        \n",
    "    IAV_data.sort()\n",
    "    \n",
    "    for i in range(Min_length):\n",
    "        Min[i] = IAV_data[i]\n",
    "                          \n",
    "    threshold = 0.0\n",
    "    \n",
    "    Max_avg = np.mean(Max)\n",
    "    Min_avg = np.mean(Min)\n",
    "    \n",
    "    if(Max_avg*0.7 > Min_avg):\n",
    "        threshold = (Max_avg - Min_avg) * 0.1\n",
    "        threshold = threshold + Min_avg        \n",
    "    else:\n",
    "        threshold = Max_avg*0.2\n",
    "        \n",
    "    return threshold\n",
    "\n",
    "def getStartPointEndPoint(y,sr,length,Window_size):\n",
    "    start_point = 0\n",
    "    end_point = 0\n",
    "    \n",
    "    IAV_th = getIAVThreshold(y,length,Window_size)\n",
    "    th = IAV_th/Window_size*2\n",
    "    \n",
    "    # start point\n",
    "    for i in range(0,length-1,int(Window_size/3)):\n",
    "        iav = IAV(y[i:i+Window_size],Window_size)\n",
    "        \n",
    "        if iav > IAV_th:\n",
    "            start_point = i \n",
    "            for j in range(Window_size):\n",
    "                if (abs(y[i+j]) > th):\n",
    "                    start_point = i+j\n",
    "                    break\n",
    "            break\n",
    "    \n",
    "    \n",
    "    if (start_point - Window_size > 0) == 1:\n",
    "        start_point = start_point - Window_size\n",
    "    \n",
    "    # end point\n",
    "    for i in range(length-1,0,-int(Window_size/3)):\n",
    "        iav = IAV(y[i-Window_size:i],Window_size)\n",
    "        \n",
    "        if iav > IAV_th:\n",
    "            end_point = i\n",
    "            for j in range(Window_size):\n",
    "                if (abs(y[i-j]) > th):\n",
    "                    end_point = i-j\n",
    "                    break\n",
    "            break\n",
    "    \n",
    "    \n",
    "    if (end_point + Window_size < length) == 1:\n",
    "        end_point = end_point + Window_size\n",
    "    \n",
    "    return start_point, end_point\n",
    "\n",
    "def load_wav(path, sr):\n",
    "    return librosa.core.load(path, sr=sr)[0]"
   ]
  },
  {
   "cell_type": "code",
   "execution_count": 5,
   "metadata": {},
   "outputs": [
    {
     "name": "stdout",
     "output_type": "stream",
     "text": [
      "./before3/m3 (26).wav\n",
      "./before3/m3 (6).wav\n",
      "./before3/m3 (8).wav\n",
      "./before3/m3 (3).wav\n",
      "./before3/m3 (15).wav\n",
      "./before3/m3 (25).wav\n",
      "./before3/m3 (12).wav\n",
      "./before3/m3 (9).wav\n",
      "./before3/m3 (30).wav\n",
      "./before3/m3 (1).wav\n",
      "./before3/m3 (24).wav\n",
      "./before3/m3 (2).wav\n",
      "./before3/m3 (10).wav\n",
      "./before3/m3 (27).wav\n",
      "./before3/m3 (4).wav\n",
      "./before3/m3 (18).wav\n",
      "./before3/m3 (14).wav\n",
      "./before3/m3 (16).wav\n",
      "./before3/m3 (19).wav\n",
      "./before3/m3 (29).wav\n",
      "./before3/m3 (5).wav\n",
      "./before3/m3 (21).wav\n",
      "./before3/m3 (28).wav\n",
      "./before3/m3 (11).wav\n",
      "./before3/m3 (7).wav\n",
      "./before3/m3 (22).wav\n",
      "./before3/m3 (17).wav\n",
      "./before3/m3 (20).wav\n",
      "./before3/m3 (23).wav\n",
      "./before3/m3 (13).wav\n",
      "30\n"
     ]
    }
   ],
   "source": [
    "for file in os.listdir(wav_dir):\n",
    "    file_path = os.path.join(wav_dir, file)\n",
    "    print(file_path)\n",
    "print(len(os.listdir(wav_dir)))"
   ]
  },
  {
   "cell_type": "code",
   "execution_count": 10,
   "metadata": {},
   "outputs": [
    {
     "name": "stdout",
     "output_type": "stream",
     "text": [
      "[-0.0045166  -0.00595093 -0.00546265 ...  0.00396729  0.00476074\n",
      "  0.00546265]\n",
      "103606\n"
     ]
    }
   ],
   "source": [
    "wav_dir='./before3'\n",
    "sr=16000\n",
    "file_path = os.path.join(wav_dir, file)\n",
    "wav = load_wav(file_path, sr=sr)\n",
    "print(wav)\n",
    "print(len(wav))"
   ]
  },
  {
   "cell_type": "code",
   "execution_count": 11,
   "metadata": {
    "scrolled": false
   },
   "outputs": [],
   "source": [
    "# 여러개파일 변환할 때\n",
    "\n",
    "wav_dir='./before4'\n",
    "sr=16000\n",
    "\n",
    "num_file = len(os.listdir(wav_dir))\n",
    "\n",
    "for i in range(num_file) :\n",
    "    for file in os.listdir(wav_dir):\n",
    "        file_path = os.path.join(wav_dir, file)\n",
    "        wav = load_wav(file_path, sr=sr)\n",
    "        Window_size = 500\n",
    "        length = len(wav)\n",
    "        start_point, end_point = getStartPointEndPoint(wav,sr,length,Window_size)\n",
    "        y = wav[start_point:end_point]\n",
    "        librosa.output.write_wav(os.path.join('./after', file), y, sr)"
   ]
  },
  {
   "cell_type": "code",
   "execution_count": 104,
   "metadata": {},
   "outputs": [],
   "source": [
    "#한개씩 변환할 때\n",
    "\n",
    "one_file_path = '.wav' #파일이름\n",
    "\n",
    "wav = load_wav(one_file_path, sr=sr)\n",
    "Window_size = 500\n",
    "length = len(wav)\n",
    "start_point, end_point = getStartPointEndPoint(wav,sr,length,Window_size)\n",
    "y = wav[start_point:end_point]\n",
    "librosa.output.write_wav('./after', y, sr)"
   ]
  },
  {
   "cell_type": "code",
   "execution_count": 19,
   "metadata": {
    "scrolled": true
   },
   "outputs": [
    {
     "data": {
      "text/plain": [
       "<Figure size 640x480 with 1 Axes>"
      ]
     },
     "metadata": {},
     "output_type": "display_data"
    }
   ],
   "source": [
    "import matplotlib.pyplot as plt\n",
    "\n",
    "y1 = wav\n",
    "\n",
    "plt.plot(y1)\n",
    "plt.show()"
   ]
  }
 ],
 "metadata": {
  "kernelspec": {
   "display_name": "Python 3",
   "language": "python",
   "name": "python3"
  },
  "language_info": {
   "codemirror_mode": {
    "name": "ipython",
    "version": 3
   },
   "file_extension": ".py",
   "mimetype": "text/x-python",
   "name": "python",
   "nbconvert_exporter": "python",
   "pygments_lexer": "ipython3",
   "version": "3.7.7"
  }
 },
 "nbformat": 4,
 "nbformat_minor": 2
}
